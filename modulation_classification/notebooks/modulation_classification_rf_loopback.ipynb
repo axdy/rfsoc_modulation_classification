{
 "cells": [
  {
   "cell_type": "markdown",
   "metadata": {
    "extensions": {
     "jupyter_dashboards": {
      "activeView": "grid_default",
      "views": {
       "grid_default": {
        "col": 0,
        "height": 7,
        "hidden": false,
        "locked": true,
        "row": 0,
        "width": 9
       }
      }
     }
    },
    "tags": []
   },
   "source": [
    "![](figs/strathsdr_banner.png)"
   ]
  },
  {
   "cell_type": "code",
   "execution_count": 1,
   "metadata": {
    "extensions": {
     "jupyter_dashboards": {
      "activeView": "grid_default",
      "views": {
       "grid_default": {
        "col": null,
        "height": 2,
        "hidden": true,
        "locked": true,
        "row": null,
        "width": 2
       }
      }
     }
    }
   },
   "outputs": [],
   "source": [
    "import os, warnings\n",
    "from pynq import PL\n",
    "from pynq import Overlay\n",
    "from pynq import allocate\n",
    "import numpy as np\n",
    "from amc_cnn_overlay import OverlayAMCCNN\n",
    "import scipy.io\n",
    "import pickle\n",
    "import matplotlib.pyplot as plt\n",
    "import matplotlib.ticker as mtick\n",
    "import plotly.graph_objs as go"
   ]
  },
  {
   "cell_type": "code",
   "execution_count": 2,
   "metadata": {
    "extensions": {
     "jupyter_dashboards": {
      "activeView": "grid_default",
      "views": {
       "grid_default": {
        "col": null,
        "height": 2,
        "hidden": true,
        "locked": true,
        "row": null,
        "width": 2
       }
      }
     }
    }
   },
   "outputs": [],
   "source": [
    "datapath = './test_data/testing_data_amc.pkl'\n",
    "# load data\n",
    "with open(datapath,'rb') as f:\n",
    "    dataset = pickle.load(f)\n",
    "classes = list(dataset.keys())"
   ]
  },
  {
   "cell_type": "markdown",
   "metadata": {
    "extensions": {
     "jupyter_dashboards": {
      "activeView": "grid_default",
      "views": {
       "grid_default": {
        "col": 0,
        "height": 5,
        "hidden": true,
        "locked": true,
        "row": 10,
        "width": 12
       }
      }
     }
    },
    "tags": []
   },
   "source": [
    "# Streaming-CNN FPGA Architecture for Communications-based Applications\n",
    "----\n",
    "This demonstration will present a modulation classification application for wireless communications modulation schemes running on a **AMD-Xilinx RFSoC 2x2 development board**."
   ]
  },
  {
   "cell_type": "markdown",
   "metadata": {
    "extensions": {
     "jupyter_dashboards": {
      "activeView": "grid_default",
      "views": {
       "grid_default": {
        "col": 0,
        "height": 24,
        "hidden": true,
        "locked": true,
        "row": 15,
        "width": 12
       }
      }
     }
    },
    "tags": []
   },
   "source": [
    "## Modulation Classification\n",
    "This demo intends to showcase the proposed streaming-CNN architecture running on an RFSoC 2x2 development board. Currently, the IP exists on-chip with inputs transferred via AXI4-Stream from the Processing System to Programmable Logic with future aims to connect directly to RF Data Converters on the RFSoC.\n",
    "\n",
    "**Modulation Classification** is the task of indentifying what modulation scheme a received signal has been encoded with. The possible modulation schemes are: \n",
    "* 8PSK\n",
    "* BPSK\n",
    "* CPFSK\n",
    "* GFSK\n",
    "* PAM14\n",
    "* QAM16\n",
    "* QAM64\n",
    "* QPSK\n",
    "\n",
    "## Neural Network Structure\n",
    "\n",
    "![](figs/NN.png)"
   ]
  },
  {
   "cell_type": "markdown",
   "metadata": {
    "extensions": {
     "jupyter_dashboards": {
      "activeView": "grid_default",
      "views": {
       "grid_default": {
        "col": null,
        "height": 2,
        "hidden": true,
        "locked": true,
        "row": null,
        "width": 2
       }
      }
     }
    }
   },
   "source": [
    "----"
   ]
  },
  {
   "cell_type": "markdown",
   "metadata": {
    "extensions": {
     "jupyter_dashboards": {
      "activeView": "grid_default",
      "views": {
       "grid_default": {
        "col": 0,
        "height": 6,
        "hidden": true,
        "locked": true,
        "row": 39,
        "width": 11
       }
      }
     }
    },
    "tags": []
   },
   "source": [
    "## CNN Architecture\n",
    "The CNN architecture has been built to support constant streaming inputs similar to how a classical communications pipeline is built with filters processing a stream of samples. This architecture aims to allow deep learning solutions to be inserted within an already existing communications pipeline. We assume samples from the air are constantly being received and this architecture has been built to support a stream without interruptions."
   ]
  },
  {
   "cell_type": "markdown",
   "metadata": {
    "extensions": {
     "jupyter_dashboards": {
      "activeView": "grid_default",
      "views": {
       "grid_default": {
        "col": 0,
        "height": 18,
        "hidden": true,
        "locked": true,
        "row": 45,
        "width": 10
       }
      }
     }
    },
    "tags": []
   },
   "source": [
    "### Weight and Input Sample Restructure\n",
    "\n",
    "To facilitate a streaming input convention, the order in which the neural network calculations are processed must be revisited. In a typical sliding window convolutional layer approach, the kernel weights may be processed over the input data multiple times. To simplify the calculations being performed on chip, the input data is transformed into a matrix equivalent of the sliding kernel approach. Similarly, the kernel weights are transformed into their matrix equivalent before deployment. The **left** figure below indicates how this is possible. The **right** figure shows how the input and kernel weights are transformed from 3D values to a matrix.\n",
    "\n",
    "Convolutions to Matrix Multiplies  |  Transforming Inputs and Weights\n",
    ":---------------------------------:|:-----------------------------------------:\n",
    "![](figs/GEMMCalculations.png)             |  ![](figs/GEMM_inputs_weights.png)"
   ]
  },
  {
   "cell_type": "markdown",
   "metadata": {
    "extensions": {
     "jupyter_dashboards": {
      "activeView": "grid_default",
      "views": {
       "grid_default": {
        "col": 0,
        "height": 10,
        "hidden": true,
        "locked": true,
        "row": 63,
        "width": 8
       }
      }
     }
    },
    "tags": [
     "remove-cell"
    ]
   },
   "source": [
    "### Overall Structure\n",
    "The streaming-CNN architecture's overall structure is shown **below**. The architecture accepts a streaming input with one sample entering at a time before being stored in a 'Block RAM buffer'. The 'Read and Write Controller' performs the matrix conversion and passes columns of the resulting matrix to the 'Matrix-Vector Multiplier'. The resulting data is then passed through a 'ReLU' activation before it is ready of the next layer to be processed.\n",
    "\n",
    "![](figs/overall_architecture.png)"
   ]
  },
  {
   "cell_type": "markdown",
   "metadata": {
    "extensions": {
     "jupyter_dashboards": {
      "activeView": "grid_default",
      "views": {
       "grid_default": {
        "col": null,
        "height": 2,
        "hidden": true,
        "locked": true,
        "row": null,
        "width": 2
       }
      }
     }
    },
    "tags": [
     "remove-cell"
    ]
   },
   "source": [
    "<!-- #### Optimisations in Matrix-Vector Multipliers\n",
    "\n",
    "Some of the matrix-vector multiplications can become quite large. We can take advantage of using a faster clock to time-share some of our resources. Below are two optimisations for both Convolutional and Dense neural network layers.\n",
    "\n",
    "On the **left** there is a fully parallel Matrix-Vector Multiplier for when the resulting input vector is small enough to run calulations in parallel. On the **right** is the serial-parallel Matrix-Vector Multiplier where a subset of the multiple-accumulates are time-shared to reduce the resources used.\n",
    "\n",
    "Fully Parallel Matrix-Vector Multiplier  |  Serial-Parallel Matrix-Vector Multiplier\n",
    ":---------------------------------------:|:-----------------------------------------:\n",
    "![](fullyparallel.png)                   |  ![](serial-parallel.png) -->"
   ]
  },
  {
   "cell_type": "markdown",
   "metadata": {
    "extensions": {
     "jupyter_dashboards": {
      "activeView": "grid_default",
      "views": {
       "grid_default": {
        "col": 0,
        "height": 5,
        "hidden": true,
        "locked": true,
        "row": 73,
        "width": 8
       }
      }
     }
    },
    "tags": []
   },
   "source": [
    "### Quantisation\n",
    "The whole model runs with **18-bit fixed point** arithmetic for both inputs and weights. This value was chosen as it is the maximum fixed point length accepted by the DSP48s on-chip and maintains good precision of the original floating point weights.\n",
    "\n",
    "----"
   ]
  },
  {
   "cell_type": "markdown",
   "metadata": {
    "extensions": {
     "jupyter_dashboards": {
      "activeView": "grid_default",
      "views": {
       "grid_default": {
        "col": 0,
        "height": 5,
        "hidden": false,
        "locked": true,
        "row": 31,
        "width": 8
       }
      }
     }
    },
    "tags": []
   },
   "source": [
    "# Interactive Demo\n",
    "### Choose from 8 different modulation schemes and test out the CNN.\n",
    "Firstly, the input waveform is plotted. Next the prediction by the model compared to the actual label.\n",
    "Finally the prediction confidence by the CNN is displayed in the form of a bar graph."
   ]
  },
  {
   "cell_type": "code",
   "execution_count": 3,
   "metadata": {
    "extensions": {
     "jupyter_dashboards": {
      "activeView": "grid_default",
      "views": {
       "grid_default": {
        "col": 0,
        "height": 24,
        "hidden": false,
        "locked": true,
        "row": 7,
        "width": 12
       }
      }
     }
    },
    "tags": []
   },
   "outputs": [
    {
     "data": {
      "application/javascript": [
       "\n",
       "try {\n",
       "require(['notebook/js/codecell'], function(codecell) {\n",
       "  codecell.CodeCell.options_default.highlight_modes[\n",
       "      'magic_text/x-csrc'] = {'reg':[/^%%microblaze/]};\n",
       "  Jupyter.notebook.events.one('kernel_ready.Kernel', function(){\n",
       "      Jupyter.notebook.get_cells().map(function(cell){\n",
       "          if (cell.cell_type == 'code'){ cell.auto_highlight(); } }) ;\n",
       "  });\n",
       "});\n",
       "} catch (e) {};\n"
      ]
     },
     "metadata": {},
     "output_type": "display_data"
    },
    {
     "data": {
      "application/javascript": [
       "\n",
       "try {\n",
       "require(['notebook/js/codecell'], function(codecell) {\n",
       "  codecell.CodeCell.options_default.highlight_modes[\n",
       "      'magic_text/x-csrc'] = {'reg':[/^%%pybind11/]};\n",
       "  Jupyter.notebook.events.one('kernel_ready.Kernel', function(){\n",
       "      Jupyter.notebook.get_cells().map(function(cell){\n",
       "          if (cell.cell_type == 'code'){ cell.auto_highlight(); } }) ;\n",
       "  });\n",
       "});\n",
       "} catch (e) {};\n"
      ]
     },
     "metadata": {},
     "output_type": "display_data"
    },
    {
     "data": {
      "application/vnd.jupyter.widget-view+json": {
       "model_id": "b075a6c393d745f8a5d1fd2e556ff361",
       "version_major": 2,
       "version_minor": 0
      },
      "text/plain": [
       "HBox(children=(VBox(children=(VBox(children=(Dropdown(description='Mods:', layout=Layout(width='200px'), optio…"
      ]
     },
     "metadata": {},
     "output_type": "display_data"
    }
   ],
   "source": [
    "from AMCLBWidget import AMCLBWidget\n",
    "\n",
    "amc_widget=AMCLBWidget(dataset, classes)\n",
    "amc_widget.display()"
   ]
  },
  {
   "cell_type": "markdown",
   "metadata": {
    "extensions": {
     "jupyter_dashboards": {
      "activeView": "grid_default",
      "views": {
       "grid_default": {
        "col": null,
        "height": 2,
        "hidden": true,
        "locked": true,
        "row": null,
        "width": 2
       }
      }
     }
    }
   },
   "source": [
    "# Accuracy of CNN model\n",
    "## Confusion matrix of the collated accuracies across all 8 modulation schemes."
   ]
  },
  {
   "cell_type": "code",
   "execution_count": null,
   "metadata": {
    "extensions": {
     "jupyter_dashboards": {
      "activeView": "grid_default",
      "views": {
       "grid_default": {
        "col": null,
        "height": 2,
        "hidden": true,
        "locked": true,
        "row": null,
        "width": 2
       }
      }
     }
    }
   },
   "outputs": [],
   "source": [
    "amc_widget.ol.clean()\n",
    "mods = classes\n",
    "predictions = {}\n",
    "for mod in mods:\n",
    "    predictions_mod = []\n",
    "    data_mod = dataset[mod]\n",
    "    for i in range(data_mod.shape[2]):\n",
    "        data = data_mod[:,:,i]\n",
    "        y = np.int16(data*np.int16(pow(2,14)))\n",
    "        z = np.zeros(2*4096, dtype=np.int16)\n",
    "        z[0::2] = y[0,:]\n",
    "        z[1::2] = y[1,:]\n",
    "        amc_widget.ol.send(z)\n",
    "        amc_widget.ol.cnn.write(0x100,1)\n",
    "        [y_pred,complex_data] = amc_widget.ol.receive()\n",
    "        max_value = np.max(y_pred)\n",
    "        max_index = np.where(y_pred == max_value)\n",
    "        predictions_mod.append(max_index[0].tolist()[0])\n",
    "        amc_widget.ol.clean()\n",
    "    predictions[mod] = predictions_mod\n",
    "    print(f\"Done {mod}\")\n",
    "amc_widget.ol.clean()"
   ]
  },
  {
   "cell_type": "code",
   "execution_count": null,
   "metadata": {
    "extensions": {
     "jupyter_dashboards": {
      "activeView": "grid_default",
      "views": {
       "grid_default": {
        "col": null,
        "height": 2,
        "hidden": true,
        "locked": true,
        "row": null,
        "width": 2
       }
      }
     }
    }
   },
   "outputs": [],
   "source": [
    "conf = np.zeros([len(mods),len(mods)])\n",
    "confnorm = conf\n",
    "for mod in mods:\n",
    "    j = mods.index(mod)\n",
    "    preds = predictions[mod]\n",
    "    for i in range(len(preds)):\n",
    "        k = preds[i]\n",
    "        conf[j,k] += 1\n",
    "for i in range(len(mods)):\n",
    "    confnorm[i,:] = conf[i,:] / np.sum(conf[i,:])\n",
    "confnorm_str = confnorm"
   ]
  },
  {
   "cell_type": "code",
   "execution_count": null,
   "metadata": {
    "extensions": {
     "jupyter_dashboards": {
      "activeView": "grid_default",
      "views": {
       "grid_default": {
        "col": null,
        "height": 2,
        "hidden": true,
        "locked": true,
        "row": null,
        "width": 2
       }
      }
     }
    }
   },
   "outputs": [],
   "source": [
    "cm_text = [['','','','','','','',''],\n",
    "           ['','','','','','','',''],\n",
    "           ['','','','','','','',''],\n",
    "           ['','','','','','','',''],\n",
    "           ['','','','','','','',''],\n",
    "           ['','','','','','','',''],\n",
    "           ['','','','','','','',''],\n",
    "           ['','','','','','','','']]\n",
    "cm_diag = np.round(np.diag(confnorm_str*100.0),1)\n",
    "for i in range(8):\n",
    "    for j in range(8):\n",
    "        if i == j:\n",
    "            cm_text[i][j] = str(cm_diag[j])"
   ]
  },
  {
   "cell_type": "code",
   "execution_count": null,
   "metadata": {
    "extensions": {
     "jupyter_dashboards": {
      "activeView": "grid_default",
      "views": {
       "grid_default": {
        "col": null,
        "height": 2,
        "hidden": true,
        "locked": true,
        "row": null,
        "width": 2
       }
      }
     }
    }
   },
   "outputs": [],
   "source": [
    "def plot_confusion_matrix(cm, title='',labels=[], text=cm_text):\n",
    "    fig = go.Figure(go.Heatmap(z=cm, \n",
    "                               x=labels, \n",
    "                               y=labels,\n",
    "                               colorscale=['#ffffff', '#023047'],\n",
    "                               # colorscale=['#023047', '#219ebc', '#ffb703'],\n",
    "                               # colorscale=['#fdfdfd','#000000'],\n",
    "                               text=cm_text,\n",
    "                               texttemplate=\"%{text}\"))\n",
    "    fig.update_layout(width=500, height=500, xaxis_title='true label', yaxis_title='predicted label', title=title)\n",
    "    fig.update_layout(font=dict( \n",
    "        family='Latin Modern Math'\n",
    "    ))\n",
    "    fig.show()\n",
    "    fig.write_image(\"modAccuracy.svg\")"
   ]
  },
  {
   "cell_type": "code",
   "execution_count": null,
   "metadata": {
    "extensions": {
     "jupyter_dashboards": {
      "activeView": "grid_default",
      "views": {
       "grid_default": {
        "col": 8,
        "height": 14,
        "hidden": false,
        "locked": true,
        "row": 31,
        "width": 4
       }
      }
     }
    },
    "tags": []
   },
   "outputs": [],
   "source": [
    "plot_confusion_matrix(confnorm*100.0, labels=mods, text=cm_text)"
   ]
  },
  {
   "cell_type": "markdown",
   "metadata": {
    "extensions": {
     "jupyter_dashboards": {
      "activeView": "grid_default",
      "views": {
       "grid_default": {
        "col": null,
        "height": 2,
        "hidden": true,
        "locked": true,
        "row": null,
        "width": 2
       }
      }
     }
    }
   },
   "source": [
    "----"
   ]
  },
  {
   "cell_type": "markdown",
   "metadata": {
    "extensions": {
     "jupyter_dashboards": {
      "activeView": "grid_default",
      "views": {
       "grid_default": {
        "col": null,
        "height": 2,
        "hidden": true,
        "locked": true,
        "row": null,
        "width": 2
       }
      }
     }
    }
   },
   "source": [
    "----"
   ]
  }
 ],
 "metadata": {
  "extensions": {
   "jupyter_dashboards": {
    "activeView": "grid_default",
    "version": 1,
    "views": {
     "grid_default": {
      "cellMargin": 2,
      "defaultCellHeight": 40,
      "maxColumns": 12,
      "name": "grid",
      "type": "grid"
     }
    }
   }
  },
  "kernelspec": {
   "display_name": "Python 3 (ipykernel)",
   "language": "python",
   "name": "python3"
  },
  "language_info": {
   "codemirror_mode": {
    "name": "ipython",
    "version": 3
   },
   "file_extension": ".py",
   "mimetype": "text/x-python",
   "name": "python",
   "nbconvert_exporter": "python",
   "pygments_lexer": "ipython3",
   "version": "3.10.4"
  }
 },
 "nbformat": 4,
 "nbformat_minor": 4
}
